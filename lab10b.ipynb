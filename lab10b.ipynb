{
 "cells": [
  {
   "cell_type": "code",
   "execution_count": 1,
   "id": "dfb82d41",
   "metadata": {},
   "outputs": [
    {
     "name": "stdout",
     "output_type": "stream",
     "text": [
      "Current temperature: 15.45°C\n",
      "Humidity: 64%\n",
      "Weather description: clear sky\n"
     ]
    }
   ],
   "source": [
    "\n",
    "\n",
    "import json\n",
    "\n",
    "# Load the JSON data from file\n",
    "with open('weather_data.json') as f:\n",
    "    data = json.load(f)\n",
    "\n",
    "# Extract the required weather data\n",
    "current_temp = data['main']['temp']\n",
    "humidity = data['main']['humidity']\n",
    "weather_desc = data['weather'][0]['description']\n",
    "\n",
    "# Display the weather data\n",
    "print(f\"Current temperature: {current_temp}°C\")\n",
    "print(f\"Humidity: {humidity}%\")\n",
    "print(f\"Weather description: {weather_desc}\")\n"
   ]
  },
  {
   "cell_type": "code",
   "execution_count": null,
   "id": "247e9515",
   "metadata": {},
   "outputs": [],
   "source": []
  },
  {
   "cell_type": "code",
   "execution_count": null,
   "id": "19068694",
   "metadata": {},
   "outputs": [],
   "source": []
  }
 ],
 "metadata": {
  "kernelspec": {
   "display_name": "Python 3 (ipykernel)",
   "language": "python",
   "name": "python3"
  },
  "language_info": {
   "codemirror_mode": {
    "name": "ipython",
    "version": 3
   },
   "file_extension": ".py",
   "mimetype": "text/x-python",
   "name": "python",
   "nbconvert_exporter": "python",
   "pygments_lexer": "ipython3",
   "version": "3.11.4"
  }
 },
 "nbformat": 4,
 "nbformat_minor": 5
}
