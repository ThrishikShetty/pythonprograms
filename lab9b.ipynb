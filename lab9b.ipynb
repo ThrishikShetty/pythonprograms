{
 "cells": [
  {
   "cell_type": "code",
   "execution_count": 1,
   "id": "6074f007",
   "metadata": {},
   "outputs": [
    {
     "name": "stdout",
     "output_type": "stream",
     "text": [
      "Enter state code for finding capital KA\n",
      "Corresponding capital for code KA is Bengaluru\n",
      "Enter state code for finding language KA\n",
      "Corresponding language for code KA is Kannada\n"
     ]
    }
   ],
   "source": [
    "#!/usr/bin/env python3\n",
    "# -*- coding: utf-8 -*-\n",
    "\"\"\"\n",
    "Created on Thu Mar  9 15:34:37 2023\n",
    "\n",
    "@author: Prabodh C P\n",
    "\"\"\"\n",
    "\n",
    "from openpyxl import Workbook \n",
    "from openpyxl.styles import Font\n",
    "\n",
    "wb = Workbook() \n",
    "sheet = wb.active\n",
    "sheet.title = \"Language\"\n",
    "wb.create_sheet(title = \"Capital\")\n",
    "\n",
    "lang = [\"Kannada\", \"Telugu\", \"Tamil\"]\n",
    "state = [\"Karnataka\", \"Telangana\", \"Tamil Nadu\"]\n",
    "capital = [\"Bengaluru\", \"Hyderabad\", \"Chennai\"]\n",
    "code =['KA', 'TS', 'TN']\n",
    "\n",
    "sheet.cell(row = 1, column = 1).value = \"State\"\n",
    "sheet.cell(row = 1, column = 2).value = \"Language\"\n",
    "sheet.cell(row = 1, column = 3).value = \"Code\"\n",
    "\n",
    "\n",
    "ft = Font(bold=True)\n",
    "for row in sheet[\"A1:C1\"]:\n",
    "    for cell in row:\n",
    "        cell.font = ft\n",
    "        \n",
    "for i in range(2,5):\n",
    "    sheet.cell(row = i, column = 1).value = state[i-2]\n",
    "    sheet.cell(row = i, column = 2).value = lang[i-2]\n",
    "    sheet.cell(row = i, column = 3).value = code[i-2]\n",
    "    \n",
    "wb.save(\"demo.xlsx\")\n",
    "\n",
    "\n",
    "sheet = wb[\"Capital\"]\n",
    "\n",
    "sheet.cell(row = 1, column = 1).value = \"State\"\n",
    "sheet.cell(row = 1, column = 2).value = \"Capital\"\n",
    "sheet.cell(row = 1, column = 3).value = \"Code\"\n",
    "\n",
    "ft = Font(bold=True)\n",
    "for row in sheet[\"A1:C1\"]:\n",
    "    for cell in row:\n",
    "        cell.font = ft\n",
    "        \n",
    "for i in range(2,5):\n",
    "    sheet.cell(row = i, column = 1).value = state[i-2]\n",
    "    sheet.cell(row = i, column = 2).value = capital[i-2]\n",
    "    sheet.cell(row = i, column = 3).value = code[i-2]\n",
    "    \n",
    "wb.save(\"demo.xlsx\")\n",
    "\n",
    "srchCode = input(\"Enter state code for finding capital \")\n",
    "for i in range(2,5):\n",
    "    data = sheet.cell(row = i, column = 3).value\n",
    "    if data == srchCode:\n",
    "        print(\"Corresponding capital for code\", srchCode, \"is\", sheet.cell(row = i, column = 2).value)\n",
    "        \n",
    "\n",
    "sheet = wb[\"Language\"]\n",
    "\n",
    "srchCode = input(\"Enter state code for finding language \")\n",
    "for i in range(2,5):\n",
    "    data = sheet.cell(row = i, column = 3).value\n",
    "    if data == srchCode:\n",
    "        print(\"Corresponding language for code\", srchCode, \"is\", sheet.cell(row = i, column = 2).value)\n",
    "\n",
    "wb.close()"
   ]
  },
  {
   "cell_type": "code",
   "execution_count": null,
   "id": "4bbc7d46",
   "metadata": {},
   "outputs": [],
   "source": []
  },
  {
   "cell_type": "code",
   "execution_count": null,
   "id": "2e730ba3",
   "metadata": {},
   "outputs": [],
   "source": []
  }
 ],
 "metadata": {
  "kernelspec": {
   "display_name": "Python 3 (ipykernel)",
   "language": "python",
   "name": "python3"
  },
  "language_info": {
   "codemirror_mode": {
    "name": "ipython",
    "version": 3
   },
   "file_extension": ".py",
   "mimetype": "text/x-python",
   "name": "python",
   "nbconvert_exporter": "python",
   "pygments_lexer": "ipython3",
   "version": "3.11.4"
  }
 },
 "nbformat": 4,
 "nbformat_minor": 5
}
